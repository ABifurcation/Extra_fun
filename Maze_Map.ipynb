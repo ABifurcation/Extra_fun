{
 "cells": [
  {
   "cell_type": "code",
   "execution_count": 1,
   "metadata": {},
   "outputs": [],
   "source": [
    "import numpy as np\n",
    "from scipy.optimize import fmin\n",
    "from astropy.stats import bootstrap\n",
    "from random import shuffle\n",
    "import random\n",
    "import time\n",
    "from astropy.stats import bootstrap\n",
    "\n",
    "%matplotlib inline\n",
    "import matplotlib.pyplot as plt"
   ]
  },
  {
   "cell_type": "code",
   "execution_count": null,
   "metadata": {},
   "outputs": [],
   "source": []
  },
  {
   "cell_type": "code",
   "execution_count": 8,
   "metadata": {
    "scrolled": true
   },
   "outputs": [],
   "source": [
    "maze_ori = np.matrix(\"99, 99 ,99, 99, 99, 99, 99 ,99, 99, 99, 99, 99 ,99, 99, 99, 99, 99;\\\n",
    "                 99, 0, 1, 0, 2, 0, 8, 0, 5, 0, 3, 0, 1, 0, 1, 0, 99;\\\n",
    "           99, -2, 99, 2, 99, 10, 99, 5, 99, -1, 99, 5, 99, 10, 99, -1, 99;\\\n",
    "           99, 0, 2, 0, 7, 0, -1, 0, 2, 0, 2, 0, 3, 0, 5, 0, 99;\\\n",
    "           99, 7, 99, 5, 99, 2, 99, -1, 99 2, 99, 3, 99, 8, 99, 1, 99;\\\n",
    "           99, 0, 3, 0, 2, 0, 6, 0, 4, 0, 2, 0, 1, 0, 8, 0, 99;\\\n",
    "           99, 4, 99, 6, 99, -1, 99, 2, 99, -1, 99, 8, 99, -1, 99, 8, 99;\\\n",
    "           99, 0, 2, 0, 5, 0, 3, 0, 4, 0, 1, 0, -1, 0, 3, 0, 99;\\\n",
    "           99, 2, 99, 10, 99, 4, 99, 1, 99, 9, 99, 4, 99, 20, 99, 5, 99;\\\n",
    "           99, 0, -2, 0, 3, 0, 4, 0, 7, 0, -1, 0, 1, 0, 3, 0, 99;\\\n",
    "           99, 99 ,99, 99, 99, 99, 99 ,99, 99, 99, 99, 99 ,99, 99, 99, 99, 99\")\n",
    "maze_ori = maze_ori.tolist()\n",
    "\n",
    "# dirs=[(0,1),(1,0),(0,-1),(-1,0)]\n",
    "path=[]\n",
    "\n",
    "def mark(maze,pos):  #给迷宫maze的位置pos标\"2\"表示“倒过了”\n",
    "    if maze[pos[0]][pos[1]] == 0:\n",
    "        maze[pos[0]][pos[1]]=0\n",
    "    else:\n",
    "        maze[pos[0]][pos[1]]=99\n",
    "    return maze\n",
    "\n",
    "def passable(maze,pos): #检查迷宫maze的位置pos是否可通行\n",
    "    return maze[pos[0]][pos[1]]!=99\n",
    "\n",
    "\n",
    "def find_path(maze,pos,end,last_step=(1,0)):\n",
    "    mark(maze,pos)\n",
    "    if last_step == (1,0):\n",
    "        dirs = [(0,1),(1,0),(0,-1)]\n",
    "    if last_step == (-1,0):\n",
    "        dirs = [(0,1),(0,-1),(-1,0)]\n",
    "    if last_step == (0,1):\n",
    "        dirs = [(0,1),(1,0),(-1,0)]\n",
    "    if last_step == (0,-1):\n",
    "        dirs = [(1,0),(0,-1),(-1,0)]\n",
    "    random.sample(dirs, len(dirs))\n",
    "    dirs = sorted(dirs, key=lambda k: random.random())\n",
    "    if pos==end:\n",
    "#         print(pos,end=\" \")  #已到达出口，输出这个位置。成功结束\n",
    "        path.append(pos)\n",
    "        return True\n",
    "    for i in range(3):      #否则按四个方向顺序检查\n",
    "        nextp = pos[0]+dirs[i][0],pos[1]+dirs[i][1]\n",
    "        last_step = (dirs[i][0],dirs[i][1])\n",
    "        #考虑下一个可能方向\n",
    "        if passable(maze,nextp):        #不可行的相邻位置不管\n",
    "            if find_path(maze,nextp,end,last_step):#如果从nextp可达出口，输出这个位置，成功结束\n",
    "#                 print(pos,end=\" \")\n",
    "                path.append(pos)\n",
    "                return True\n",
    "    return False\n",
    "\n",
    "\n",
    "def see_path(maze,path):     #使寻找到的路径可视化\n",
    "    for i,p in enumerate(path):\n",
    "        if i==0:\n",
    "            maze[p[0]][p[1]] =\"E\"\n",
    "        elif i==len(path)-1:\n",
    "            maze[p[0]][p[1]]=\"S\"\n",
    "        else:\n",
    "            maze[p[0]][p[1]] =88\n",
    "    print(\"\\n\")\n",
    "    for r in maze:\n",
    "        for c in r:\n",
    "            if c==88:\n",
    "                print('\\033[0;31m'+\"*\"+\" \"+'\\033[0m',end=\"\")\n",
    "            elif c==\"S\" or c==\"E\":\n",
    "                print('\\033[0;34m'+c+\" \" + '\\033[0m', end=\"\")\n",
    "            else:\n",
    "                print(\" \"*2,end=\"\")\n",
    "        print()\n",
    "\n",
    "def map_value(maze,path):\n",
    "    begin = 1 \n",
    "    path = list(reversed(path))\n",
    "    for i,p in enumerate(path):\n",
    "        if maze[p[0]][p[1]] == 10:\n",
    "            begin *= 2\n",
    "        elif maze[p[0]][p[1]] == 20:\n",
    "            begin *= 3\n",
    "        else:\n",
    "            begin += maze[p[0]][p[1]]\n",
    "#         print(\"+ %s = %s\" %(maze[p[0]][p[1]],begin))\n",
    "    return begin\n",
    "        \n",
    "value  = []\n",
    "allpath = []\n",
    "for i in range(500000):\n",
    "    maze = [[99, 99 ,99, 99, 99, 99, 99 ,99, 99, 99, 99, 99 ,99, 99, 99, 99, 99],\\\n",
    "            [99, 0, 1, 0, 2, 0, 8, 0, 5, 0, 3, 0, 1, 0, 1, 0, 99],\\\n",
    "            [99, -2, 99, 2, 99, 10, 99, 5, 99, -1, 99, 5, 99, 10, 99, -1, 99],\\\n",
    "            [99, 0, 2, 0, 7, 0, -1, 0, 2, 0, 2, 0, 3, 0, 5, 0, 99],\\\n",
    "            [99, 7, 99, 5, 99, 2, 99, -1, 99, 2, 99, 3, 99, 8, 99, 1, 99],\\\n",
    "            [99, 0, 3, 0, 2, 0, 6, 0, 4, 0, 2, 0, 1, 0, 8, 0, 99],\\\n",
    "            [99, 4, 99, 6, 99, -1, 99, 2, 99, -1, 99, 8, 99, -1, 99, 8, 99],\\\n",
    "            [99, 0, 2, 0, 5, 0, 3, 0, 4, 0, 1, 0, -1, 0, 3, 0, 99],\\\n",
    "            [99, 2, 99, 10, 99, 4, 99, 1, 99, 9, 99, 4, 99, 20, 99, 5, 99],\\\n",
    "            [99, 0, -2, 0, 3, 0, 4, 0, 7, 0, -1, 0, 1, 0, 3, 0, 99],\\\n",
    "            [99, 99 ,99, 99, 99, 99, 99 ,99, 99, 99, 99, 99 ,99, 99, 99, 99, 99]]\n",
    "    start=(9,1)\n",
    "    end=(1,15)\n",
    "    path=[]\n",
    "    find_path(maze,start,end)\n",
    "    allpath.append(path)\n",
    "    value.append(map_value(maze_ori,path))"
   ]
  },
  {
   "cell_type": "code",
   "execution_count": 9,
   "metadata": {},
   "outputs": [
    {
     "name": "stdout",
     "output_type": "stream",
     "text": [
      "1545\n",
      "[(9, 1), (9, 2), (9, 3), (9, 4), (9, 5), (8, 5), (7, 5), (7, 4), (7, 3), (6, 3), (5, 3), (5, 4), (5, 5), (6, 5), (7, 5), (7, 6), (7, 7), (8, 7), (9, 7), (9, 8), (9, 9), (8, 9), (7, 9), (7, 8), (7, 7), (6, 7), (5, 7), (5, 8), (5, 9), (5, 10), (5, 11), (5, 12), (5, 13), (5, 14), (5, 15), (6, 15), (7, 15), (7, 14), (7, 13), (7, 12), (7, 11), (6, 11), (5, 11), (4, 11), (3, 11), (3, 10), (3, 9), (3, 8), (3, 7), (4, 7), (5, 7), (5, 6), (5, 5), (4, 5), (3, 5), (3, 4), (3, 3), (3, 2), (3, 1), (4, 1), (5, 1), (5, 2), (5, 3), (4, 3), (3, 3), (2, 3), (1, 3), (1, 4), (1, 5), (2, 5), (3, 5), (3, 6), (3, 7), (2, 7), (1, 7), (1, 8), (1, 9), (2, 9), (3, 9), (4, 9), (5, 9), (6, 9), (7, 9), (7, 10), (7, 11), (8, 11), (9, 11), (9, 12), (9, 13), (8, 13), (7, 13), (6, 13), (5, 13), (4, 13), (3, 13), (2, 13), (1, 13), (1, 12), (1, 11), (2, 11), (3, 11), (3, 12), (3, 13), (3, 14), (3, 15), (2, 15), (1, 15)]\n",
      "\n",
      "\n",
      "                                  \n",
      "      \u001b[0;31m* \u001b[0m\u001b[0;31m* \u001b[0m\u001b[0;31m* \u001b[0m  \u001b[0;31m* \u001b[0m\u001b[0;31m* \u001b[0m\u001b[0;31m* \u001b[0m  \u001b[0;31m* \u001b[0m\u001b[0;31m* \u001b[0m\u001b[0;31m* \u001b[0m  \u001b[0;34mE \u001b[0m  \n",
      "      \u001b[0;31m* \u001b[0m  \u001b[0;31m* \u001b[0m  \u001b[0;31m* \u001b[0m  \u001b[0;31m* \u001b[0m  \u001b[0;31m* \u001b[0m  \u001b[0;31m* \u001b[0m  \u001b[0;31m* \u001b[0m  \n",
      "  \u001b[0;31m* \u001b[0m\u001b[0;31m* \u001b[0m\u001b[0;31m* \u001b[0m\u001b[0;31m* \u001b[0m\u001b[0;31m* \u001b[0m\u001b[0;31m* \u001b[0m\u001b[0;31m* \u001b[0m\u001b[0;31m* \u001b[0m\u001b[0;31m* \u001b[0m\u001b[0;31m* \u001b[0m\u001b[0;31m* \u001b[0m\u001b[0;31m* \u001b[0m\u001b[0;31m* \u001b[0m\u001b[0;31m* \u001b[0m\u001b[0;31m* \u001b[0m  \n",
      "  \u001b[0;31m* \u001b[0m  \u001b[0;31m* \u001b[0m  \u001b[0;31m* \u001b[0m  \u001b[0;31m* \u001b[0m  \u001b[0;31m* \u001b[0m  \u001b[0;31m* \u001b[0m  \u001b[0;31m* \u001b[0m      \n",
      "  \u001b[0;31m* \u001b[0m\u001b[0;31m* \u001b[0m\u001b[0;31m* \u001b[0m\u001b[0;31m* \u001b[0m\u001b[0;31m* \u001b[0m\u001b[0;31m* \u001b[0m\u001b[0;31m* \u001b[0m\u001b[0;31m* \u001b[0m\u001b[0;31m* \u001b[0m\u001b[0;31m* \u001b[0m\u001b[0;31m* \u001b[0m\u001b[0;31m* \u001b[0m\u001b[0;31m* \u001b[0m\u001b[0;31m* \u001b[0m\u001b[0;31m* \u001b[0m  \n",
      "      \u001b[0;31m* \u001b[0m  \u001b[0;31m* \u001b[0m  \u001b[0;31m* \u001b[0m  \u001b[0;31m* \u001b[0m  \u001b[0;31m* \u001b[0m  \u001b[0;31m* \u001b[0m  \u001b[0;31m* \u001b[0m  \n",
      "      \u001b[0;31m* \u001b[0m\u001b[0;31m* \u001b[0m\u001b[0;31m* \u001b[0m\u001b[0;31m* \u001b[0m\u001b[0;31m* \u001b[0m\u001b[0;31m* \u001b[0m\u001b[0;31m* \u001b[0m\u001b[0;31m* \u001b[0m\u001b[0;31m* \u001b[0m\u001b[0;31m* \u001b[0m\u001b[0;31m* \u001b[0m\u001b[0;31m* \u001b[0m\u001b[0;31m* \u001b[0m  \n",
      "          \u001b[0;31m* \u001b[0m  \u001b[0;31m* \u001b[0m  \u001b[0;31m* \u001b[0m  \u001b[0;31m* \u001b[0m  \u001b[0;31m* \u001b[0m      \n",
      "  \u001b[0;34mS \u001b[0m\u001b[0;31m* \u001b[0m\u001b[0;31m* \u001b[0m\u001b[0;31m* \u001b[0m\u001b[0;31m* \u001b[0m  \u001b[0;31m* \u001b[0m\u001b[0;31m* \u001b[0m\u001b[0;31m* \u001b[0m  \u001b[0;31m* \u001b[0m\u001b[0;31m* \u001b[0m\u001b[0;31m* \u001b[0m      \n",
      "                                  \n"
     ]
    }
   ],
   "source": [
    "maxval = np.max(value)\n",
    "maxpos = np.argmax(value)\n",
    "\n",
    "print(maxval)\n",
    "print(list(reversed(allpath[maxpos])))\n",
    "see_path(maze,allpath[maxpos])"
   ]
  },
  {
   "cell_type": "code",
   "execution_count": 10,
   "metadata": {},
   "outputs": [
    {
     "data": {
      "text/plain": [
       "[[99, 99, 99, 99, 99, 99, 99, 99, 99, 99, 99, 99, 99, 99, 99, 99, 99],\n",
       " [99, 0, 1, 0, 2, 0, 8, 0, 5, 0, 3, 0, 1, 0, 1, 0, 99],\n",
       " [99, -2, 99, 2, 99, 10, 99, 5, 99, -1, 99, 5, 99, 10, 99, -1, 99],\n",
       " [99, 0, 2, 0, 7, 0, -1, 0, 2, 0, 2, 0, 3, 0, 5, 0, 99],\n",
       " [99, 7, 99, 5, 99, 2, 99, -1, 99, 2, 99, 3, 99, 8, 99, 1, 99],\n",
       " [99, 0, 3, 0, 2, 0, 6, 0, 4, 0, 2, 0, 1, 0, 8, 0, 99],\n",
       " [99, 4, 99, 6, 99, -1, 99, 2, 99, -1, 99, 8, 99, -1, 99, 8, 99],\n",
       " [99, 0, 2, 0, 5, 0, 3, 0, 4, 0, 1, 0, -1, 0, 3, 0, 99],\n",
       " [99, 2, 99, 10, 99, 4, 99, 1, 99, 9, 99, 4, 99, 20, 99, 5, 99],\n",
       " [99, 0, -2, 0, 3, 0, 4, 0, 7, 0, -1, 0, 1, 0, 3, 0, 99],\n",
       " [99, 99, 99, 99, 99, 99, 99, 99, 99, 99, 99, 99, 99, 99, 99, 99, 99]]"
      ]
     },
     "execution_count": 10,
     "metadata": {},
     "output_type": "execute_result"
    }
   ],
   "source": [
    "maze_ori"
   ]
  },
  {
   "cell_type": "code",
   "execution_count": 11,
   "metadata": {
    "scrolled": false
   },
   "outputs": [
    {
     "name": "stdout",
     "output_type": "stream",
     "text": [
      "start at 1\n",
      "+ -2 = -1\n",
      "+ 3 = 2\n",
      "+ 4 = 6\n",
      "+ 5 = 11\n",
      "+ 6 = 17\n",
      "+ 2 = 19\n",
      "+ -1 = 18\n",
      "+ 3 = 21\n",
      "+ 1 = 22\n",
      "+ 7 = 29\n",
      "+ 9 = 38\n",
      "+ 4 = 42\n",
      "+ 2 = 44\n",
      "+ 4 = 48\n",
      "+ 2 = 50\n",
      "+ 1 = 51\n",
      "+ 8 = 59\n",
      "+ 8 = 67\n",
      "+ 3 = 70\n",
      "+ -1 = 69\n",
      "+ 8 = 77\n",
      "+ 3 = 80\n",
      "+ 2 = 82\n",
      "+ 2 = 84\n",
      "+ -1 = 83\n",
      "+ 6 = 89\n",
      "+ 2 = 91\n",
      "+ 7 = 98\n",
      "+ 2 = 100\n",
      "+ 7 = 107\n",
      "+ 3 = 110\n",
      "+ 5 = 115\n",
      "+ 2 = 117\n",
      "+ 2 = 119\n",
      "* 2 = 238\n",
      "+ -1 = 237\n",
      "+ 5 = 242\n",
      "+ 5 = 247\n",
      "+ -1 = 246\n",
      "+ 2 = 248\n",
      "+ -1 = 247\n",
      "+ 1 = 248\n",
      "+ 4 = 252\n",
      "+ 1 = 253\n",
      "* 3 = 759\n",
      "+ -1 = 758\n",
      "+ 8 = 766\n",
      "* 2 = 1532\n",
      "+ 1 = 1533\n",
      "+ 5 = 1538\n",
      "+ 3 = 1541\n",
      "+ 5 = 1546\n",
      "+ -1 = 1545\n"
     ]
    },
    {
     "data": {
      "text/plain": [
       "1545"
      ]
     },
     "execution_count": 11,
     "metadata": {},
     "output_type": "execute_result"
    }
   ],
   "source": [
    "def map_value(maze,path):\n",
    "    begin = 1 \n",
    "    path = list(reversed(path))\n",
    "    for i,p in enumerate(path):\n",
    "        if maze[p[0]][p[1]] == 10:\n",
    "            begin *= 2\n",
    "        elif maze[p[0]][p[1]] == 20:\n",
    "            begin *= 3\n",
    "        else:\n",
    "            begin += maze[p[0]][p[1]]\n",
    "        if maze[p[0]][p[1]] == 10:\n",
    "            print(\"* 2 = %s\" %(begin))\n",
    "        elif maze[p[0]][p[1]] == 20:\n",
    "            print(\"* 3 = %s\" %(begin))\n",
    "        elif maze[p[0]][p[1]] != 0:\n",
    "            print(\"+ %s = %s\" %(maze[p[0]][p[1]],begin))\n",
    "    return begin\n",
    "\n",
    "print(\"start at 1\")      \n",
    "map_value(maze_ori,allpath[maxpos])\n",
    "# see_path(maze,allpath[maxpos])"
   ]
  },
  {
   "cell_type": "code",
   "execution_count": 12,
   "metadata": {},
   "outputs": [
    {
     "name": "stdout",
     "output_type": "stream",
     "text": [
      "[[99 99 99 99 99 99 99 99 99 99 99 99 99 99 99 99 99]\n",
      " [99  0  1  0  2  0  8  0  5  0  3  0  1  0  1  0 99]\n",
      " [99 -2 99  2 99 10 99  5 99 -1 99  5 99 10 99 -1 99]\n",
      " [99  0  2  0  7  0 -1  0  2  0  2  0  3  0  5  0 99]\n",
      " [99  7 99  5 99  2 99 -1 99  2 99  3 99  8 99  1 99]\n",
      " [99  0  3  0  2  0  6  0  4  0  2  0  1  0  8  0 99]\n",
      " [99  4 99  6 99 -1 99  2 99 -1 99  8 99 -1 99  8 99]\n",
      " [99  0  2  0  5  0  3  0  4  0  1  0 -1  0  3  0 99]\n",
      " [99  2 99 10 99  4 99  1 99  9 99  4 99 20 99  5 99]\n",
      " [99  0 -2  0  3  0  4  0  7  0 -1  0  1  0  3  0 99]\n",
      " [99 99 99 99 99 99 99 99 99 99 99 99 99 99 99 99 99]]\n"
     ]
    }
   ],
   "source": [
    "maze_ori = np.matrix(\"99, 99 ,99, 99, 99, 99, 99 ,99, 99, 99, 99, 99 ,99, 99, 99, 99, 99;\\\n",
    "                 99, 0, 1, 0, 2, 0, 8, 0, 5, 0, 3, 0, 1, 0, 1, 0, 99;\\\n",
    "           99, -2, 99, 2, 99, 10, 99, 5, 99, -1, 99, 5, 99, 10, 99, -1, 99;\\\n",
    "           99, 0, 2, 0, 7, 0, -1, 0, 2, 0, 2, 0, 3, 0, 5, 0, 99;\\\n",
    "           99, 7, 99, 5, 99, 2, 99, -1, 99 2, 99, 3, 99, 8, 99, 1, 99;\\\n",
    "           99, 0, 3, 0, 2, 0, 6, 0, 4, 0, 2, 0, 1, 0, 8, 0, 99;\\\n",
    "           99, 4, 99, 6, 99, -1, 99, 2, 99, -1, 99, 8, 99, -1, 99, 8, 99;\\\n",
    "           99, 0, 2, 0, 5, 0, 3, 0, 4, 0, 1, 0, -1, 0, 3, 0, 99;\\\n",
    "           99, 2, 99, 10, 99, 4, 99, 1, 99, 9, 99, 4, 99, 20, 99, 5, 99;\\\n",
    "           99, 0, -2, 0, 3, 0, 4, 0, 7, 0, -1, 0, 1, 0, 3, 0, 99;\\\n",
    "           99, 99 ,99, 99, 99, 99, 99 ,99, 99, 99, 99, 99 ,99, 99, 99, 99, 99\")\n",
    "print(maze_ori)"
   ]
  },
  {
   "cell_type": "code",
   "execution_count": 13,
   "metadata": {
    "scrolled": true
   },
   "outputs": [],
   "source": [
    "# def see_path2(maze,path):     #使寻找到的路径可视化\n",
    "#     for i,p in enumerate(path):\n",
    "#         if i==0:\n",
    "#             maze[p[0]][p[1]] =\"E\"\n",
    "#         elif i==len(path)-1:\n",
    "#             maze[p[0]][p[1]]=\"S\"\n",
    "#         else:\n",
    "#             maze[p[0]][p[1]] =88\n",
    "#         print(\"\\n\")\n",
    "#         for r in maze:\n",
    "#             for c in r:\n",
    "#                 if c==88:\n",
    "#                     print('\\033[0;31m'+\"*\"+\" \"+'\\033[0m',end=\"\")\n",
    "#                 elif c==\"S\" or c==\"E\":\n",
    "#                     print('\\033[0;34m'+c+\" \" + '\\033[0m', end=\"\")\n",
    "#                 elif c==99:\n",
    "#                     print('\\033[0;;40m'+\" \"*2+'\\033[0m',end=\"\")\n",
    "#                 else:\n",
    "#                     print('\\033[0;;40m'+\" \"*2+'\\033[0m',end=\"\")\n",
    "#         #                     print(\" \"*2,end=\"\")\n",
    "#             print()\n",
    "# see_path2(maze_ori,allpath[maxpos])"
   ]
  },
  {
   "cell_type": "code",
   "execution_count": null,
   "metadata": {},
   "outputs": [],
   "source": []
  },
  {
   "cell_type": "code",
   "execution_count": null,
   "metadata": {},
   "outputs": [],
   "source": []
  }
 ],
 "metadata": {
  "kernelspec": {
   "display_name": "Python 3",
   "language": "python",
   "name": "python3"
  },
  "language_info": {
   "codemirror_mode": {
    "name": "ipython",
    "version": 3
   },
   "file_extension": ".py",
   "mimetype": "text/x-python",
   "name": "python",
   "nbconvert_exporter": "python",
   "pygments_lexer": "ipython3",
   "version": "3.7.4"
  }
 },
 "nbformat": 4,
 "nbformat_minor": 2
}
